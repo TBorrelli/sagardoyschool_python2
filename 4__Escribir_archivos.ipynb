{
 "cells": [
  {
   "cell_type": "markdown",
   "metadata": {},
   "source": [
    "<h1 id=\"write\">Escribir archivos</h1>"
   ]
  },
  {
   "cell_type": "markdown",
   "metadata": {},
   "source": [
    "Podemos abrir un objeto archivo mediante el método <code>write()</code> para guardar el archivo de texto en una lista. <br>\n",
    "Para escribir en un archivo, el argumento <code>mode</code> debe tener el valor **w**. <br>\n",
    "Para escribir en un archivo, en español el argumento <code>encoding</code> debe tener el valor **utf-8**. <br>\n",
    "Escribamos un archivo **example2.txt** con la línea: **\"Esta es la línea A\"** en el file <code>archivo_1</code>"
   ]
  },
  {
   "cell_type": "code",
   "execution_count": 44,
   "metadata": {},
   "outputs": [],
   "source": [
    "archivo_1 = 'material_de_soporte/example2.txt'\n",
    "with open(archivo_1, mode='w',encoding='utf-8') as archivo_da_escribir:\n",
    "    archivo_da_escribir.write(\"Esta es la línea A\")"
   ]
  },
  {
   "cell_type": "markdown",
   "metadata": {},
   "source": [
    "Podemos leer el archivo para ver si ha funcionado:"
   ]
  },
  {
   "cell_type": "code",
   "execution_count": 3,
   "metadata": {},
   "outputs": [
    {
     "name": "stdout",
     "output_type": "stream",
     "text": [
      "Esta es la línea A\n"
     ]
    }
   ],
   "source": [
    "with open(archivo_1, mode='r',encoding='utf-8') as archivo_da_leer:\n",
    "    print(archivo_da_leer.read())"
   ]
  },
  {
   "cell_type": "markdown",
   "metadata": {},
   "source": [
    "Podemos escribir varias líneas:"
   ]
  },
  {
   "cell_type": "code",
   "execution_count": 8,
   "metadata": {},
   "outputs": [],
   "source": [
    "with open(archivo_1, mode='w',encoding='utf-8') as archivo_da_escribir:\n",
    "    archivo_da_escribir.write(\"Esta es la línea A\\n\")\n",
    "    archivo_da_escribir.write(\"Esta es la línea B\\n\")"
   ]
  },
  {
   "cell_type": "markdown",
   "metadata": {},
   "source": [
    "El método <code>.write()</code>; funciona de forma similar al método <code>.readline()</code>, excepto que en lugar de leer una nueva línea escribe una nueva línea. <br>\n",
    "El proceso se ilustra en la figura. El código de colores diferente de la cuadrícula representa una nueva línea añadida al archivo después de cada llamada al método."
   ]
  },
  {
   "cell_type": "markdown",
   "metadata": {},
   "source": [
    "<img src=\"data:image/png;base64, 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\" align=\"center\" />"
   ]
  },
  {
   "cell_type": "markdown",
   "metadata": {},
   "source": [
    "Puede comprobar el archivo para ver si sus resultados son correctos."
   ]
  },
  {
   "cell_type": "code",
   "execution_count": 9,
   "metadata": {},
   "outputs": [
    {
     "name": "stdout",
     "output_type": "stream",
     "text": [
      "Esta es la línea A\n",
      "Esta es la línea B\n",
      "\n"
     ]
    }
   ],
   "source": [
    "with open(archivo_1, mode='r',encoding='utf-8') as archivo_da_leer:\n",
    "    print(archivo_da_leer.read())"
   ]
  },
  {
   "cell_type": "markdown",
   "metadata": {},
   "source": [
    "Escribimos una lista en un fichero **.txt** como sigue:"
   ]
  },
  {
   "cell_type": "code",
   "execution_count": 13,
   "metadata": {},
   "outputs": [
    {
     "data": {
      "text/plain": [
       "['Esta es la línea A\\n', 'Esta es la línea B\\n', 'Esta es la línea C']"
      ]
     },
     "execution_count": 13,
     "metadata": {},
     "output_type": "execute_result"
    }
   ],
   "source": [
    "líneas = [\"Esta es la línea A\\n\", \"Esta es la línea B\\n\", \"Esta es la línea C\"]\n",
    "líneas"
   ]
  },
  {
   "cell_type": "code",
   "execution_count": 14,
   "metadata": {},
   "outputs": [
    {
     "name": "stdout",
     "output_type": "stream",
     "text": [
      "Esta es la línea A\n",
      "\n",
      "Esta es la línea B\n",
      "\n",
      "Esta es la línea C\n"
     ]
    }
   ],
   "source": [
    "with open(archivo_1, mode='w',encoding='utf-8') as archivo_da_escribir:\n",
    "    for línea in líneas:\n",
    "        print(línea)\n",
    "        archivo_da_escribir.write(línea)"
   ]
  },
  {
   "cell_type": "markdown",
   "metadata": {},
   "source": [
    "Podemos verificar que el fichero está escrito leyéndolo e imprimiendo los valores:"
   ]
  },
  {
   "cell_type": "code",
   "execution_count": 16,
   "metadata": {},
   "outputs": [
    {
     "name": "stdout",
     "output_type": "stream",
     "text": [
      "Esta es la línea A\n",
      "Esta es la línea B\n",
      "Esta es la línea C\n"
     ]
    }
   ],
   "source": [
    "with open(archivo_1, mode='r',encoding='utf-8') as archivo_da_leer:\n",
    "    print(archivo_da_leer.read())"
   ]
  },
  {
   "cell_type": "markdown",
   "metadata": {},
   "source": [
    "<div class=\"alert alert-block alert-warning\" style=\"color:black\">\n",
    "<b>Importante:</b> Al establecer el modo en <code>w</code> se sobrescriben todos los datos existentes en el archivo\n",
    "</div>"
   ]
  },
  {
   "cell_type": "code",
   "execution_count": 17,
   "metadata": {},
   "outputs": [
    {
     "name": "stdout",
     "output_type": "stream",
     "text": [
      "Sobrescribir\n",
      "\n"
     ]
    }
   ],
   "source": [
    "with open(archivo_1, mode='w',encoding='utf-8') as archivo_da_escribir:\n",
    "    archivo_da_escribir.write(\"Sobrescribir\\n\")\n",
    "with open(archivo_1, mode='r',encoding='utf-8') as archivo_da_leer:\n",
    "    print(archivo_da_leer.read())"
   ]
  },
  {
   "cell_type": "markdown",
   "metadata": {},
   "source": [
    "<hr><h2 id=\"Append\">Añadir archivos</h2>"
   ]
  },
  {
   "cell_type": "markdown",
   "metadata": {},
   "source": [
    "Podemos escribir en archivos sin perder ninguno de los datos existentes de la siguiente manera estableciendo el argumento <code>mode</code> **a**. <br>\n",
    "Puede añadir una nueva línea de la siguiente manera:"
   ]
  },
  {
   "cell_type": "code",
   "execution_count": 40,
   "metadata": {},
   "outputs": [],
   "source": [
    "with open(archivo_1, mode='w',encoding='utf-8') as archivo_da_escribir:\n",
    "    archivo_da_escribir.write(\"Esta es la línea A\\n\")\n",
    "    archivo_da_escribir.write(\"Esta es la línea B\\n\")\n",
    "\n",
    "with open(archivo_1, mode='a',encoding='utf-8') as archivo_da_leer:\n",
    "    archivo_da_leer.write(\"Esta es la línea C\\n\")\n",
    "    archivo_da_leer.write(\"Esta es la línea D\\n\")"
   ]
  },
  {
   "cell_type": "markdown",
   "metadata": {},
   "source": [
    "Puede verificar que el archivo ha cambiado ejecutando la siguiente celda:"
   ]
  },
  {
   "cell_type": "code",
   "execution_count": 41,
   "metadata": {},
   "outputs": [
    {
     "name": "stdout",
     "output_type": "stream",
     "text": [
      "Esta es la línea A\n",
      "Esta es la línea B\n",
      "Esta es la línea C\n",
      "Esta es la línea D\n",
      "\n"
     ]
    }
   ],
   "source": [
    "with open(archivo_1, mode='r',encoding='utf-8') as archivo_da_leer:\n",
    "    print(archivo_da_leer.read())"
   ]
  },
  {
   "cell_type": "markdown",
   "metadata": {},
   "source": [
    "<hr>\n",
    "<h2 id=\"add\">Modos adicionales</h2>"
   ]
  },
  {
   "cell_type": "markdown",
   "metadata": {},
   "source": [
    "Es bastante ineficiente abrir el archivo en **a** o **w** y luego volver a abrirlo en **r** para leer cualquier línea. <br>\n",
    "Por suerte podemos acceder al fichero en los siguientes modos:\n",
    "- **r+** : Lectura y escritura. No se puede truncar el archivo.\n",
    "- **w+** : Escritura y lectura. Trunca el archivo.\n",
    "- **a+** : Añadir y leer. Crea un nuevo archivo, si no existe ninguno."
   ]
  },
  {
   "cell_type": "markdown",
   "metadata": {},
   "source": [
    "Vamos a probar el modo __a+__:"
   ]
  },
  {
   "cell_type": "code",
   "execution_count": 22,
   "metadata": {},
   "outputs": [
    {
     "name": "stdout",
     "output_type": "stream",
     "text": [
      "\n"
     ]
    }
   ],
   "source": [
    "with open(archivo_1, mode='a+',encoding='utf-8') as archivo_da_escribir_y_leer:\n",
    "    archivo_da_escribir_y_leer.write(\"Esta es la línea C\\n\")\n",
    "    print(archivo_da_escribir_y_leer.read())"
   ]
  },
  {
   "cell_type": "markdown",
   "metadata": {},
   "source": [
    "<div class=\"alert alert-block alert-info\" style=\"color:black\">\n",
    "<b>Nota Bene:</b> No hubo errores pero <code>read()</code> tampoco muestra nada. Esto se debe a nuestra ubicación en el archivo.\n",
    "</div>"
   ]
  },
  {
   "cell_type": "markdown",
   "metadata": {},
   "source": [
    "La mayoría de los métodos de archivo que hemos visto funcionan en un lugar determinado del archivo. <br>\n",
    "<code>.write()</code> escribe en un lugar determinado del archivo. <br>\n",
    "<code>.read()</code> lee en un lugar determinado del archivo y así sucesivamente. <br>\n",
    "Esto es como mover el puntero en el bloc de notas para hacer cambios en un lugar específico."
   ]
  },
  {
   "cell_type": "markdown",
   "metadata": {},
   "source": [
    "Abrir el archivo en **w** equivale a abrir el archivo .txt, mover el cursor al principio del archivo de texto, escribir texto nuevo y borrar todo lo que sigue.<br>\n",
    "Mientras que abrir el archivo en **a** es similar a abrir el archivo .txt, mover el cursor hasta el final y luego añadir los nuevos trozos de texto. <br>\n",
    "A menudo resulta muy útil saber dónde se encuentra el <code>cursor</code> en un fichero y poder controlarlo. <br>\n",
    "Los siguientes métodos nos permiten hacer precisamente esto\n",
    "<ul>\n",
    "<li><code>.tell()</code> - devuelve la posición actual en bytes.</li>\n",
    "<li><code>.seek(offset,from)</code> - cambia la posición en bytes 'offset' con respecto a 'from'. From puede tomar el valor de 0,1,2 correspondiente al inicio, relativo a la posición actual y final</li>\n",
    "</ul>"
   ]
  },
  {
   "cell_type": "markdown",
   "metadata": {},
   "source": [
    "Ahora volvamos a **a+**"
   ]
  },
  {
   "cell_type": "code",
   "execution_count": 23,
   "metadata": {},
   "outputs": [
    {
     "name": "stdout",
     "output_type": "stream",
     "text": [
      "Ubicación inicial: 105\n",
      "Nada da leer\n",
      "\n",
      "Nueva ubicación : 0\n",
      "Esta es la línea A\n",
      "Esta es la línea B\n",
      "Esta es la línea C\n",
      "Esta es la línea D\n",
      "Esta es la línea C\n",
      "\n",
      "Ubicación después leer: 105\n"
     ]
    }
   ],
   "source": [
    "with open(archivo_1, mode='a+',encoding='utf-8') as archivo_da_escribir_y_leer:\n",
    "    print(\"Ubicación inicial: {}\".format(archivo_da_escribir_y_leer.tell()))\n",
    "    \n",
    "    data = archivo_da_escribir_y_leer.read()\n",
    "    if (not data):  #Las string vacías devuelven false en python\n",
    "            print('Nada da leer') \n",
    "    else: \n",
    "            print(archivo_da_escribir_y_leer.read())\n",
    "            \n",
    "    archivo_da_escribir_y_leer.seek(0,0) # mueve 0 bytes desde el principio.\n",
    "    \n",
    "    print(\"\\nNueva ubicación : {}\".format(archivo_da_escribir_y_leer.tell()))\n",
    "    data = archivo_da_escribir_y_leer.read()\n",
    "    if (not data): \n",
    "            print('Nada da leer') \n",
    "    else: \n",
    "            print(data)\n",
    "    \n",
    "    print(\"Ubicación después leer: {}\".format(archivo_da_escribir_y_leer.tell()) )"
   ]
  },
  {
   "cell_type": "markdown",
   "metadata": {},
   "source": [
    "Por último, una nota sobre la diferencia entre **w+** y **r+**. <br>\n",
    "Ambos modos permiten acceder a los métodos de lectura y escritura; sin embargo, abrir un archivo en **w+** lo sobrescribe y borra todos los datos preexistentes. <br>"
   ]
  },
  {
   "cell_type": "code",
   "execution_count": 26,
   "metadata": {},
   "outputs": [
    {
     "name": "stdout",
     "output_type": "stream",
     "text": [
      "Línea 1\n",
      "Línea 2\n",
      "Línea 3\n",
      "Línea 4\n",
      "Terminado\n",
      "\n",
      " línea C\n",
      "Esta es la línea D\n",
      "Esta es la línea C\n",
      "\n"
     ]
    }
   ],
   "source": [
    "with open(archivo_1, mode='r+',encoding='utf-8') as archivo_da_escribir_y_leer:\n",
    "    archivo_da_escribir_y_leer.seek(0,0) #escribir al principio del fichero\n",
    "   \n",
    "    archivo_da_escribir_y_leer.write(\"Línea 1\" + \"\\n\")\n",
    "    archivo_da_escribir_y_leer.write(\"Línea 2\" + \"\\n\")\n",
    "    archivo_da_escribir_y_leer.write(\"Línea 3\" + \"\\n\")\n",
    "    archivo_da_escribir_y_leer.write(\"Línea 4\" + \"\\n\")\n",
    "    archivo_da_escribir_y_leer.write(\"Terminado\\n\")\n",
    "    archivo_da_escribir_y_leer.seek(0,0)\n",
    "    \n",
    "    print(archivo_da_escribir_y_leer.read())"
   ]
  },
  {
   "cell_type": "markdown",
   "metadata": {},
   "source": [
    "Para trabajar con un fichero sobre datos existentes, utilice **r+** y **a+**. <br>\n",
    "Al utilizar **r+**, puede ser útil añadir un <code>.truncate()</code> al final de los datos. <br>\n",
    "Esto reducirá el archivo a tus datos y borrará todo lo que sigue. <br>"
   ]
  },
  {
   "cell_type": "code",
   "execution_count": 27,
   "metadata": {},
   "outputs": [
    {
     "name": "stdout",
     "output_type": "stream",
     "text": [
      "Línea 1\n",
      "Línea 2\n",
      "Línea 3\n",
      "Línea 4\n",
      "Terminado\n",
      "\n"
     ]
    }
   ],
   "source": [
    "with open(archivo_1, mode='r+',encoding='utf-8') as archivo_da_escribir_y_leer:\n",
    "    archivo_da_escribir_y_leer.seek(0,0) #escribir al principio del fichero\n",
    "   \n",
    "    archivo_da_escribir_y_leer.write(\"Línea 1\" + \"\\n\")\n",
    "    archivo_da_escribir_y_leer.write(\"Línea 2\" + \"\\n\")\n",
    "    archivo_da_escribir_y_leer.write(\"Línea 3\" + \"\\n\")\n",
    "    archivo_da_escribir_y_leer.write(\"Línea 4\" + \"\\n\")\n",
    "    archivo_da_escribir_y_leer.write(\"Terminado\\n\")\n",
    "    archivo_da_escribir_y_leer.truncate()\n",
    "    archivo_da_escribir_y_leer.seek(0,0)\n",
    "    print(archivo_da_escribir_y_leer.read())\n",
    "    "
   ]
  },
  {
   "cell_type": "markdown",
   "metadata": {},
   "source": [
    "<hr>\n"
   ]
  },
  {
   "cell_type": "markdown",
   "metadata": {},
   "source": [
    "<h2 id=\"copia\">Copiar un archivo</h2>"
   ]
  },
  {
   "cell_type": "markdown",
   "metadata": {},
   "source": [
    "Copiemos el archivo **Ejemplo2.txt** al archivo **Ejemplo3.txt**:"
   ]
  },
  {
   "cell_type": "code",
   "execution_count": 45,
   "metadata": {},
   "outputs": [],
   "source": [
    "archivo_2 = 'material_de_soporte/example3.txt'\n",
    "with open(archivo_1, mode='r',encoding='utf-8') as archivo_da_leer:\n",
    "    with open(archivo_2, mode='w',encoding='utf-8') as archivo_da_escribir:\n",
    "          for línea in archivo_da_leer:\n",
    "                archivo_da_escribir.write(línea)"
   ]
  },
  {
   "cell_type": "markdown",
   "metadata": {},
   "source": [
    "Podemos leer el archivo para ver si todo funciona:"
   ]
  },
  {
   "cell_type": "code",
   "execution_count": 46,
   "metadata": {},
   "outputs": [
    {
     "name": "stdout",
     "output_type": "stream",
     "text": [
      "Esta es la línea A\n"
     ]
    }
   ],
   "source": [
    "with open(archivo_2, mode='r',encoding='utf-8') as archivo_da_leer:\n",
    "    print(archivo_da_leer.read())"
   ]
  },
  {
   "cell_type": "markdown",
   "metadata": {},
   "source": [
    "<hr>\n"
   ]
  },
  {
   "cell_type": "markdown",
   "metadata": {},
   "source": [
    "<h2> Ejercicio </h2>"
   ]
  },
  {
   "cell_type": "markdown",
   "metadata": {},
   "source": [
    "El club de fans de los Raptors de tu universidad local mantiene un registro de sus miembros activos en un documento .txt.<br>\n",
    "Cada mes actualizan el archivo eliminando a los miembros que no están activos.<br>\n",
    "Te han encargado automatizar esto con tus conocimientos de Python. <br>\n",
    "Dado el archivo `currentMem`, Elimina cada miembro con un 'no' en su columna Activo.<br>\n",
    "Realice un seguimiento de cada uno de los miembros eliminados y añádalos al archivo `exMem`. <br>\n",
    "Asegúrese de que se conserva el formato de los archivos originales. <br>\n",
    "(*Pista: Hazlo leyendo/escribiendo líneas enteras y asegurándote de que se mantiene la cabecera* ). <br>\n",
    "<br>\n",
    "Ejecute el bloque de código siguiente antes de comenzar el ejercicio. <br>\n",
    "Se le ha proporcionado el código esqueleto.<br>\n",
    "Edite sólo la función `cleanFiles`."
   ]
  },
  {
   "cell_type": "code",
   "execution_count": 63,
   "metadata": {},
   "outputs": [],
   "source": [
    "#Ejecutar esto antes de comenzar el ejercicio\n",
    "from random import randint as rnd\n",
    "\n",
    "memReg = 'material_de_soporte/miembros.txt'\n",
    "exReg = 'material_de_soporte/inactivos.txt'\n",
    "activo =('sí','no')\n",
    "\n",
    "def genFiles(current,old):\n",
    "    with open(current,'w+',encoding='utf-8') as writefile: \n",
    "        writefile.write('Nº de afiliación  Fecha de afiliación  Activo  \\n')\n",
    "        data = \"{:^16}  {:<19}  {:<7}\\n\"\n",
    "        for rowno in range(20):\n",
    "            date = str(rnd(2015,2020))+ '-' + str(rnd(1,12))+'-'+str(rnd(1,25))\n",
    "            writefile.write(data.format(rnd(10000,99999),date,activo[rnd(0,1)]))\n",
    "\n",
    "\n",
    "    with open(old,'w+',encoding='utf-8') as writefile: \n",
    "        writefile.write('Nº de afiliación  Fecha de afiliación  Activo  \\n')\n",
    "        data = \"{:^16}  {:<19}  {:<7}\\n\"\n",
    "        for rowno in range(3):\n",
    "            date = str(rnd(2015,2020))+ '-' + str(rnd(1,12))+'-'+str(rnd(1,25))\n",
    "            writefile.write(data.format(rnd(10000,99999),date,activo[1]))\n",
    "\n",
    "\n",
    "genFiles(memReg,exReg)\n"
   ]
  },
  {
   "cell_type": "markdown",
   "metadata": {},
   "source": [
    "Ahora que ha ejecutado la celda de código prerrequisito anterior, que preparó los archivos para este ejercicio, está listo para pasar a la implementación.\n",
    "\n",
    "\n",
    "#### **Ejercicio:** Implementa la función **cleanFiles** en la celda de código siguiente."
   ]
  },
  {
   "cell_type": "code",
   "execution_count": null,
   "metadata": {},
   "outputs": [],
   "source": [
    "  \n",
    "'''\n",
    "Los dos argumentos de esta función son los archivos\n",
    "    - currentMem: Fichero que contiene la lista de miembros actuales\n",
    "    - exMem: Fichero que contiene la lista de miembros antiguos\n",
    "    \n",
    "    Esta función debe eliminar todas las filas de currentMem que contengan 'no' \n",
    "    en la columna 'Activo' y añadirlas a exMem.\n",
    "    '''\n",
    "def cleanFiles(currentMem, exMem):\n",
    "    #TODO: Abrir el fichero currentMem como en modo r+\n",
    "        #TODO: Abrir el fichero exMem en modo a+\n",
    "\n",
    "        #TODO: Leer cada miembro del fichero currentMem (1 miembro por fila) en una lista.\n",
    "        #Pista: Recuerda que la primera línea del fichero es la cabecera.\n",
    "\n",
    "        #TODO: iterar a través de los miembros y crear una nueva lista de los miembros inactivos.\n",
    "\n",
    "        # Ir al principio del fichero currentMem\n",
    "        # TODO: Recorrer la lista de miembros. \n",
    "        # Si un miembro esta inactivo, añadalo a exMem, en caso contrario escribalo en currentMem\n",
    "\n",
    "        \n",
    "    \n",
    "    pass # Elimine esta línea cuando termine la implementación\n",
    "\n",
    "\n",
    "# El codigo de abajo es para ayudarte a ver los archivos.\n",
    "# No modifiques este código para este ejercicio.\n",
    "memReg = 'material_de_soporte/miembros.txt'\n",
    "exReg = 'material_de_soporte/inactivos.txt'\n",
    "cleanFiles(memReg,exReg)\n",
    "\n",
    "\n",
    "headers = 'Nº de afiliación  Fecha de afiliación  Activo  \\n'\n",
    "with open(memReg,'r',encoding='utf-8') as readFile:\n",
    "    print(\"Miembros activos: \\n\\n\")\n",
    "    print(readFile.read())\n",
    "    \n",
    "with open(exReg,'r',encoding='utf-8') as readFile:\n",
    "    print(\"Miembros inactivos: \\n\\n\")\n",
    "    print(readFile.read())\n",
    "                \n",
    "    "
   ]
  },
  {
   "cell_type": "markdown",
   "metadata": {},
   "source": [
    "The code cell below is to verify your solution. Please do not modify the code and run it to test your implementation of `cleanFiles`.\n"
   ]
  },
  {
   "cell_type": "code",
   "execution_count": 68,
   "metadata": {},
   "outputs": [
    {
     "name": "stdout",
     "output_type": "stream",
     "text": [
      "Prueba superada\n"
     ]
    }
   ],
   "source": [
    "def testMsg(passed):\n",
    "    if passed:\n",
    "       return 'Prueba superada'\n",
    "    else :\n",
    "       return 'Prueba fallida'\n",
    "\n",
    "testWrite = \"material_de_soporte/testWrite.txt\"\n",
    "testAppend = \"material_de_soporte/testAppend.txt\" \n",
    "passed = True\n",
    "\n",
    "genFiles(testWrite,testAppend)\n",
    "\n",
    "with open(testWrite,'r',encoding='utf-8') as file:\n",
    "    ogWrite = file.readlines()\n",
    "\n",
    "with open(testAppend,'r',encoding='utf-8') as file:\n",
    "    ogAppend = file.readlines()\n",
    "\n",
    "try:\n",
    "    cleanFiles(testWrite,testAppend)\n",
    "except:\n",
    "    print('Error')\n",
    "\n",
    "with open(testWrite,'r',encoding='utf-8') as file:\n",
    "    clWrite = file.readlines()\n",
    "\n",
    "with open(testAppend,'r',encoding='utf-8') as file:\n",
    "    clAppend = file.readlines()\n",
    "        \n",
    "# comprobar si el número total de filas es el mismo, incluidas las cabeceras\n",
    "\n",
    "if (len(ogWrite) + len(ogAppend) != len(clWrite) + len(clAppend)):\n",
    "    print(\"El número de filas no cuadra. Asegúrese de que sus archivos finales tienen el mismo encabezado y formato.\")\n",
    "    passed = False\n",
    "    \n",
    "for line in clWrite:\n",
    "    if  'no' in line:\n",
    "        passed = False\n",
    "        print(\"Miembros inactivos en el fichero\")\n",
    "        break\n",
    "    else:\n",
    "        if line not in ogWrite:\n",
    "            print(\"Los datos del fichero no coinciden con los del fichero original\")\n",
    "            passed = False\n",
    "print (\"{}\".format(testMsg(passed)))\n",
    "    \n",
    "\n"
   ]
  },
  {
   "cell_type": "markdown",
   "metadata": {},
   "source": [
    "<details><summary>Haz doble clic <b>aquí</b> para la solución.</summary>\n",
    "<b>\n",
    "\n",
    "```python\n",
    "def cleanFiles(currentMem,exMem):\n",
    "    with open(currentMem,'r+',encoding='utf-8') as writeFile: \n",
    "        with open(exMem,'a+',encoding='utf-8') as appendFile:\n",
    "            #get the data\n",
    "            writeFile.seek(0)\n",
    "            members = writeFile.readlines()\n",
    "            #remove header\n",
    "            header = members[0]\n",
    "            members.pop(0)\n",
    "\n",
    "            inactive = []\n",
    "            for member in members:\n",
    "                if 'no' in member:\n",
    "                    inactive.append(member)\n",
    "                \n",
    "            #ir al principio del fichero de escritura\n",
    "            writeFile.seek(0) \n",
    "            writeFile.write(header)\n",
    "            for member in members:\n",
    "                if (member in inactive):\n",
    "                    appendFile.write(member)\n",
    "                else:\n",
    "                    writeFile.write(member)      \n",
    "            writeFile.truncate()\n",
    "                \n",
    "memReg = 'material_de_soporte/miembros.txt'\n",
    "exReg = 'material_de_soporte/inactivos.txt'\n",
    "cleanFiles(memReg,exReg)\n",
    "\n",
    "# código para ayudarte a ver los archivos\n",
    "\n",
    "headers = \"Membership No  Date Joined  Active  \\n\"\n",
    "\n",
    "with open(memReg,'r',encoding='utf-8') as readFile:\n",
    "    print(\"Miembros activos: \\n\\n\")\n",
    "    print(readFile.read())\n",
    "    \n",
    "with open(exReg,'r',encoding='utf-8') as readFile:\n",
    "    print(\"Miembros inactivos: \\n\\n\")\n",
    "    print(readFile.read())\n",
    "    \n",
    "```\n",
    "</b>\n",
    "</details>\n",
    "\n",
    "    \n"
   ]
  },
  {
   "cell_type": "code",
   "execution_count": null,
   "metadata": {},
   "outputs": [],
   "source": []
  }
 ],
 "metadata": {
  "kernelspec": {
   "display_name": "Python 3 (ipykernel)",
   "language": "python",
   "name": "python3"
  },
  "language_info": {
   "codemirror_mode": {
    "name": "ipython",
    "version": 3
   },
   "file_extension": ".py",
   "mimetype": "text/x-python",
   "name": "python",
   "nbconvert_exporter": "python",
   "pygments_lexer": "ipython3",
   "version": "3.12.4"
  }
 },
 "nbformat": 4,
 "nbformat_minor": 4
}
